{
 "cells": [
  {
   "cell_type": "code",
   "execution_count": 4,
   "id": "3aabae0e-236c-431c-b906-7391a8fc1019",
   "metadata": {},
   "outputs": [
    {
     "name": "stdout",
     "output_type": "stream",
     "text": [
      "D:\\\n"
     ]
    }
   ],
   "source": [
    "cd .."
   ]
  },
  {
   "cell_type": "code",
   "execution_count": 5,
   "id": "5dbaf97b-8fe9-49fb-8533-8eafc60ff096",
   "metadata": {},
   "outputs": [
    {
     "data": {
      "text/plain": [
       "'D:\\\\'"
      ]
     },
     "execution_count": 5,
     "metadata": {},
     "output_type": "execute_result"
    }
   ],
   "source": [
    "import os \n",
    "os.getcwd()"
   ]
  },
  {
   "cell_type": "code",
   "execution_count": 12,
   "id": "79cfa880-e3d7-4782-8010-d46741152643",
   "metadata": {},
   "outputs": [
    {
     "name": "stdout",
     "output_type": "stream",
     "text": [
      "Label probs: [[8.4365392e-06 9.9952257e-01 4.6903919e-04]]\n"
     ]
    }
   ],
   "source": [
    "from transformers import CLIPProcessor, CLIPModel\n",
    "import clip\n",
    "import torch\n",
    "from PIL import Image\n",
    "\n",
    "model, preprocess = clip.load(\"ViT-B/32\", device=\"cpu\")\n",
    "image = preprocess(Image.open(\"0003-f090000.bmp\")).unsqueeze(0)\n",
    "texts = clip.tokenize([\"Crack\", \"Delamination\", \"Nodefect\"])\n",
    "\n",
    "with torch.no_grad():\n",
    "    image_features = model.encode_image(image)\n",
    "    text_features = model.encode_text(texts)\n",
    "\n",
    "# Compare which text matches the image\n",
    "logits_per_image, logits_per_text = model(image, texts)\n",
    "probs = logits_per_image.softmax(dim=-1).cpu().detach().numpy()\n",
    "print(\"Label probs:\", probs)\n"
   ]
  },
  {
   "cell_type": "code",
   "execution_count": null,
   "id": "1d682483-565c-4418-82fd-9f5f8f189e9b",
   "metadata": {},
   "outputs": [],
   "source": []
  }
 ],
 "metadata": {
  "kernelspec": {
   "display_name": "Python (clipods_env)",
   "language": "python",
   "name": "clipods_env"
  },
  "language_info": {
   "codemirror_mode": {
    "name": "ipython",
    "version": 3
   },
   "file_extension": ".py",
   "mimetype": "text/x-python",
   "name": "python",
   "nbconvert_exporter": "python",
   "pygments_lexer": "ipython3",
   "version": "3.8.20"
  }
 },
 "nbformat": 4,
 "nbformat_minor": 5
}
